{
  "nbformat": 4,
  "nbformat_minor": 0,
  "metadata": {
    "colab": {
      "provenance": [],
      "authorship_tag": "ABX9TyPwYCq4dpo/VDZ57LKaQArg",
      "include_colab_link": true
    },
    "kernelspec": {
      "name": "python3",
      "display_name": "Python 3"
    },
    "language_info": {
      "name": "python"
    }
  },
  "cells": [
    {
      "cell_type": "markdown",
      "metadata": {
        "id": "view-in-github",
        "colab_type": "text"
      },
      "source": [
        "<a href=\"https://colab.research.google.com/github/ANKA-159/MPA-MLF/blob/main/Lab02.ipynb\" target=\"_parent\"><img src=\"https://colab.research.google.com/assets/colab-badge.svg\" alt=\"Open In Colab\"/></a>"
      ]
    },
    {
      "cell_type": "markdown",
      "source": [
        "import matplotlib.pyplot as plt\n",
        "import copy\n",
        "import numpy as np\n",
        "from numpy.linalg import norm\n",
        "from sklearn.cluster import KMeans\n",
        "\n",
        "loaded_points = np.load('/content/k_mean_points.npy')\n",
        "plt.figure()\n",
        "plt.scatter(loaded_points[:,0],loaded_points[:,1])"
      ],
      "metadata": {
        "id": "IwW0Hz5z4w5r"
      }
    },
    {
      "cell_type": "code",
      "execution_count": null,
      "metadata": {
        "id": "7z_vOAPFyvHC"
      },
      "outputs": [],
      "source": [
        "import matplotlib.pyplot as plt\n",
        "import copy\n",
        "import numpy as np\n",
        "from numpy.linalg import norm\n",
        "from sklearn.cluster import KMeans\n",
        "\n",
        "loaded_points = np.load(\"/content/k_mean_points.npy\")\n",
        "plt.figure()\n",
        "plt.scatter(loaded_points[:,0],loaded_points[:,1])"
      ]
    },
    {
      "cell_type": "code",
      "source": [
        "import numpy as np\n",
        "\n",
        "def calculate_metric(points: np.array, centroid: np.array) -> np.array:\n",
        "    \"\"\"\n",
        "    Calculates the distance metric between each point and a given centroid.\n",
        "\n",
        "    Parameters:\n",
        "    :param points: Array of n data points.\n",
        "    :type points: ndarray with shape (n, 2)\n",
        "\n",
        "    :param centroid: A single centroid\n",
        "    :type centroid: ndarray with shape (1, 2)\n",
        "\n",
        "    :return: distances_array\n",
        "    distances_array: Array of distances from point to centroid\n",
        "\n",
        "    :rtype:\n",
        "    distances_array: ndarray with shape (n,)\n",
        "    \"\"\"\n",
        "    # Calculate distances using Euclidean distance\n",
        "    distances_array = np.linalg.norm(points - centroid, axis=1)\n",
        "\n",
        "    return distances_array\n",
        "\n",
        "# Example usage:\n",
        "points = np.array([[1, 2], [3, 4], [5, 6]])\n",
        "centroid = np.array([2, 3])\n",
        "distances = calculate_metric(points, centroid)\n",
        "print(\"Distances from centroid to points:\", distances)"
      ],
      "metadata": {
        "id": "Gw90cDtR1Lvt",
        "colab": {
          "base_uri": "https://localhost:8080/"
        },
        "outputId": "bae4d9c2-1fa1-49b6-edc1-c958e7f9e917"
      },
      "execution_count": 6,
      "outputs": [
        {
          "output_type": "stream",
          "name": "stdout",
          "text": [
            "Distances from centroid to points: [1.41421356 1.41421356 4.24264069]\n"
          ]
        }
      ]
    },
    {
      "cell_type": "code",
      "source": [
        "import numpy as np\n",
        "\n",
        "def assign_centroids(distances: np.array) -> np.array:\n",
        "    \"\"\"\n",
        "    Assigns each point to the closest centroid based on the distances.\n",
        "\n",
        "    Parameters:\n",
        "    :param distances: 2D array with distances of each point to each centroid.\n",
        "    :type distances: ndarray with shape (k_clusters, n)\n",
        "\n",
        "    :return: assigned_clusters\n",
        "    assigned_clusters: Array indicating the closest centroid for each data point.\n",
        "\n",
        "    :rtype:\n",
        "    assigned_centroids: ndarray with shape (1, n) and dtype = np.int32\n",
        "    \"\"\"\n",
        "    # Find the index of the centroid with the minimum distance for each point\n",
        "    assigned_centroids = np.argmin(distances, axis=0)\n",
        "\n",
        "    return assigned_centroids\n",
        "\n",
        "# Example usage:\n",
        "distances = np.array([[1, 2, 3], [2, 3, 4], [3, 4, 5]])\n",
        "assigned_centroids = assign_centroids(distances)\n",
        "print(\"Assigned centroids:\", assigned_centroids)\n"
      ],
      "metadata": {
        "id": "32akN_5G2h7P",
        "colab": {
          "base_uri": "https://localhost:8080/"
        },
        "outputId": "03bfcf10-7e9c-475e-c0d6-2e7f62959702"
      },
      "execution_count": 7,
      "outputs": [
        {
          "output_type": "stream",
          "name": "stdout",
          "text": [
            "Assigned centroids: [0 0 0]\n"
          ]
        }
      ]
    },
    {
      "cell_type": "code",
      "source": [
        "import numpy as np\n",
        "\n",
        "def calculate_new_centroids(points: np.array, assigned_centroids: np.array, k_clusters: int) -> np.array:\n",
        "    \"\"\"\n",
        "    Computes new centroids based on the current cluster assignments.\n",
        "\n",
        "    Parameters:\n",
        "    :param points: Array of n data points.\n",
        "    :type points: ndarray with shape (n, 2)\n",
        "\n",
        "    :param assigned_centroids: Array indicating the closest centroid for each data point.\n",
        "    :type assigned_centroids: ndarray with shape (1, n) and dtype = np.int32\n",
        "\n",
        "    :param k_clusters: Number of clusters.\n",
        "    :type k_clusters: int\n",
        "\n",
        "    :return: new_clusters\n",
        "    new_clusters: new cluster points\n",
        "\n",
        "    :rtype:\n",
        "    new_clusters: ndarray with shape (k_clusters, 2) and dtype = np.float32\n",
        "    \"\"\"\n",
        "    new_clusters = np.zeros((k_clusters, points.shape[1]))  # Initialize new centroids array\n",
        "\n",
        "    for i in range(k_clusters):\n",
        "        # Find data points assigned to the current centroid\n",
        "        cluster_points = points[assigned_centroids == i]\n",
        "        if len(cluster_points) > 0:\n",
        "            # Compute the mean of the data points in the cluster to get the new centroid\n",
        "            new_clusters[i] = np.mean(cluster_points, axis=0)\n",
        "\n",
        "    return new_clusters\n",
        "\n",
        "# Example usage:\n",
        "points = np.array([[1, 2], [3, 4], [5, 6], [7, 8]])\n",
        "assigned_centroids = np.array([0, 1, 0, 1])\n",
        "k_clusters = 2\n",
        "new_centroids = calculate_new_centroids(points, assigned_centroids, k_clusters)\n",
        "print(\"New centroids:\", new_centroids)\n"
      ],
      "metadata": {
        "id": "KGrQXQha3dpj",
        "colab": {
          "base_uri": "https://localhost:8080/"
        },
        "outputId": "695819d5-61fe-4264-f388-1e802d1d5224"
      },
      "execution_count": 8,
      "outputs": [
        {
          "output_type": "stream",
          "name": "stdout",
          "text": [
            "New centroids: [[3. 4.]\n",
            " [5. 6.]]\n"
          ]
        }
      ]
    },
    {
      "cell_type": "code",
      "source": [
        "import numpy as np\n",
        "\n",
        "def calculate_metric(points: np.array, centroid: np.array) -> np.array:\n",
        "    \"\"\"\n",
        "    Calculates the distance metric between each point and a given centroid.\n",
        "\n",
        "    Parameters:\n",
        "    :param points: Array of n data points.\n",
        "    :type points: ndarray with shape (n, 2)\n",
        "\n",
        "    :param centroid: A single centroid\n",
        "    :type centroid: ndarray with shape (1, 2)\n",
        "\n",
        "    :return: distances_array\n",
        "    distances_array: Array of distances from point to centroid\n",
        "\n",
        "    :rtype:\n",
        "    distances_array: ndarray with shape (n,)\n",
        "    \"\"\"\n",
        "    # Calculate distances using Euclidean distance\n",
        "    distances_array = np.linalg.norm(points - centroid, axis=1)\n",
        "    return distances_array\n",
        "\n",
        "def assign_centroids(distances: np.array) -> np.array:\n",
        "    \"\"\"\n",
        "    Assigns each point to the closest centroid based on the distances.\n",
        "\n",
        "    Parameters:\n",
        "    :param distances: 2D array with distances of each point to each centroid.\n",
        "    :type distances: ndarray with shape (k_clusters, n)\n",
        "\n",
        "    :return: assigned_clusters\n",
        "    assigned_clusters: Array indicating the closest centroid for each data point.\n",
        "\n",
        "    :rtype:\n",
        "    assigned_centroids: ndarray with shape (1, n) and dtype = np.int32\n",
        "    \"\"\"\n",
        "    # Find the index of the centroid with the minimum distance for each point\n",
        "    assigned_centroids = np.argmin(distances, axis=0)\n",
        "    return assigned_centroids\n",
        "\n",
        "def calculate_new_centroids(points: np.array, assigned_centroids: np.array, k_clusters: int) -> np.array:\n",
        "    \"\"\"\n",
        "    Computes new centroids based on the current cluster assignments.\n",
        "\n",
        "    Parameters:\n",
        "    :param points: Array of n data points.\n",
        "    :type points: ndarray with shape (n, 2)\n",
        "\n",
        "    :param assigned_centroids: Array indicating the closest centroid for each data point.\n",
        "    :type assigned_centroids: ndarray with shape (1, n) and dtype = np.int32\n",
        "\n",
        "    :param k_clusters: Number of clusters.\n",
        "    :type k_clusters: int\n",
        "\n",
        "    :return: new_clusters\n",
        "    new_clusters: new cluster points\n",
        "\n",
        "    :rtype:\n",
        "    new_clusters: ndarray with shape (k_clusters, 2) and dtype = np.float32\n",
        "    \"\"\"\n",
        "    new_clusters = np.zeros((k_clusters, points.shape[1]))  # Initialize new centroids array\n",
        "\n",
        "    for i in range(k_clusters):\n",
        "        # Find data points assigned to the current centroid\n",
        "        cluster_points = points[assigned_centroids == i]\n",
        "        if len(cluster_points) > 0:\n",
        "            # Compute the mean of the data points in the cluster to get the new centroid\n",
        "            new_clusters[i] = np.mean(cluster_points, axis=0)\n",
        "\n",
        "    return new_clusters\n",
        "\n",
        "def calculate_objective_function(centroids, labels, data):\n",
        "    total_variance = 0\n",
        "    for i in range(len(centroids)):\n",
        "        cluster_points = data[labels == i]\n",
        "        if len(cluster_points) > 0:\n",
        "            total_variance += np.sum((cluster_points - centroids[i])**2)\n",
        "    return total_variance\n",
        "\n",
        "def fit(points: np.array, k_clusters: int, n_of_iterations: int, error: float = 0.001) -> tuple:\n",
        "    \"\"\"\n",
        "    Fits the k-means clustering model on the dataset.\n",
        "\n",
        "    Parameters:\n",
        "    :param points : Array of data points.\n",
        "    :type points: ndarray with shape (n, 2) and dtype = np.float32\n",
        "\n",
        "    :param k_clusters:  Number of clusters\n",
        "    :type k_clusters: int\n",
        "\n",
        "    :param n_of_iterations:  Maximum number of iterations\n",
        "    :type n_of_iterations: int\n",
        "\n",
        "    :param error: Threshold for convergence.\n",
        "    :type error: float\n",
        "\n",
        "    :return: centroid_points, last_objective\n",
        "    centroid_points: final centroid points\n",
        "    last_objective: final objective function\n",
        "\n",
        "    :rtype:\n",
        "    centroid_points: ndarray with shape (k_clusters, 2) and dtype = np.float32\n",
        "    last_objective: float\n",
        "    \"\"\"\n",
        "    # Initialize centroids randomly\n",
        "    centroid_points = points[np.random.choice(len(points), size=k_clusters, replace=False)]\n",
        "\n",
        "    last_objective = np.inf\n",
        "\n",
        "    for _ in range(n_of_iterations):\n",
        "        # Calculate distances from centroids to all points\n",
        "        distances = np.array([calculate_metric(points, centroid) for centroid in centroid_points])\n",
        "\n",
        "        # Assign data points to the closest centroids\n",
        "        assigned_centroids = assign_centroids(distances)\n",
        "\n",
        "        # Compute new centroids based on the current cluster assignments\n",
        "        new_centroids = calculate_new_centroids(points, assigned_centroids, k_clusters)\n",
        "\n",
        "        # Calculate objective function\n",
        "        objective = calculate_objective_function(new_centroids, assigned_centroids, points)\n",
        "\n",
        "        # Check for convergence\n",
        "        if np.abs(last_objective - objective) < error:\n",
        "            break\n",
        "\n",
        "        last_objective = objective\n",
        "        centroid_points = new_centroids\n",
        "\n",
        "    return centroid_points, last_objective\n",
        "\n",
        "# Example usage:\n",
        "loaded_points = np.load(\"/content/k_mean_points.npy\")\n",
        "k_clusters = 3\n",
        "n_of_iterations = 100\n",
        "final_centroids, final_objective = fit(loaded_points, k_clusters, n_of_iterations)\n",
        "print(\"Final Centroids:\", final_centroids)\n",
        "print(\"Final Objective Function:\", final_objective)\n"
      ],
      "metadata": {
        "id": "rBek0spo3sQ2"
      },
      "execution_count": null,
      "outputs": []
    },
    {
      "cell_type": "markdown",
      "source": [
        "Exercise 2"
      ],
      "metadata": {
        "id": "z4K9QjC8CFEu"
      }
    },
    {
      "cell_type": "code",
      "source": [
        "import matplotlib.pyplot as plt\n",
        "\n",
        "# Define range of possible k values\n",
        "k_all = range(2, 10)\n",
        "all_objective = []\n",
        "\n",
        "# Iterate over each value of k\n",
        "for k in k_all:\n",
        "    # Fit the data using different k values\n",
        "    centroids, objective = fit(loaded_points, k, n_iterations=100)\n",
        "    all_objective.append(objective)\n",
        "\n",
        "# Plot objective function values in terms of k values\n",
        "plt.plot(k_all, all_objective, marker='o')\n",
        "plt.title('Elbow Method')\n",
        "plt.xlabel('Number of clusters (k)')\n",
        "plt.ylabel('Objective Function Value')\n",
        "plt.xticks(k_all)\n",
        "plt.show()\n"
      ],
      "metadata": {
        "id": "LSF8lqt9B_8_"
      },
      "execution_count": null,
      "outputs": []
    },
    {
      "cell_type": "code",
      "source": [
        "plt.figure()\n",
        "plt.plot(k_all, all_objective)\n",
        "plt.xlabel('K clusters')\n",
        "plt.ylabel('Sum of squared distance')"
      ],
      "metadata": {
        "id": "McxqVuwtCOUk"
      },
      "execution_count": null,
      "outputs": []
    },
    {
      "cell_type": "code",
      "source": [
        "from matplotlib.image import imread\n",
        "from sklearn.cluster import KMeans\n",
        "import numpy as np\n",
        "\n",
        "loaded_image = imread('/content/fish.jpg')\n",
        "\n",
        "plt.imshow(loaded_image)\n",
        "plt.show()"
      ],
      "metadata": {
        "id": "I0Kb4_0ICoZD"
      },
      "execution_count": null,
      "outputs": []
    },
    {
      "cell_type": "code",
      "source": [
        "def compress_image(image: np.array, number_of_colours: int) -> np.array:\n",
        "    \"\"\"\n",
        "    Compresses the given image by reducing the number of colours used in the image.\n",
        "\n",
        "    This function applies k-means clustering to group the pixel colours of the image\n",
        "    into 'number_of_colours' clusters. Each pixel's colour in the image is then replaced\n",
        "    with the colour of the closest centroid of these clusters. This process effectively\n",
        "    reduces the number of colours in the image, resulting in compression.\n",
        "\n",
        "    Parameters:\n",
        "    image (np.array): The original image is represented as a 3D numpy array\n",
        "                      (height x width x color_channels).\n",
        "    number_of_colours (int): The number of colours to reduce the image to.\n",
        "\n",
        "    Returns:\n",
        "    np.array: The compressed image as a numpy array in the same shape as the input.\n",
        "    \"\"\"\n",
        "\n",
        "    return image\n",
        "\n",
        "img = compress_image(loaded_image, 30)\n",
        "plt.figure()\n",
        "plt.imshow(img)\n",
        "plt.show()\n"
      ],
      "metadata": {
        "id": "Wi73iGyrCrgb"
      },
      "execution_count": null,
      "outputs": []
    },
    {
      "cell_type": "code",
      "source": [],
      "metadata": {
        "id": "45DGXmS-Csj0"
      },
      "execution_count": null,
      "outputs": []
    }
  ]
}